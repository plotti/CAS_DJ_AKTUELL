{
 "cells": [
  {
   "cell_type": "markdown",
   "metadata": {},
   "source": [
    "# Extrahieren von Text zum Social Media Archiv \n",
    "- https://democrats-intelligence.house.gov/social-media-content/\n",
    "- ```pip install progressbar```"
   ]
  },
  {
   "cell_type": "code",
   "execution_count": 1,
   "metadata": {},
   "outputs": [],
   "source": [
    "import textract\n",
    "import re\n",
    "import os\n",
    "import pandas as pd\n",
    "# import progressbar\n",
    "import time"
   ]
  },
  {
   "cell_type": "markdown",
   "metadata": {},
   "source": [
    "## Mit einer Datei ausprobieren"
   ]
  },
  {
   "cell_type": "markdown",
   "metadata": {},
   "source": [
    "- Einleseversuch"
   ]
  },
  {
   "cell_type": "code",
   "execution_count": 6,
   "metadata": {},
   "outputs": [
    {
     "data": {
      "text/plain": [
       "\"b'Ad ID 374 Ad Text Join us because we care. Black matters. Ad Landing Page https://www.facebook.com/Black-Matters-1579673598947501 / Ad Targeting Location: United States: Baltimore (+20 km) Maryland; St. Louis (+20 km) Missouri Excluded Connections: Exclude people who like Black Matters Age: 18 - 65+ Language: English (UK) or English (US) Placements: News Feed on desktop computers or News Feed on mobile devices Ad Impressions 137 Ad Clicks 0 Ad Spend 44.87 RUB Ad Creation Date 06/10/15 02:59:53 AM PDT P(1)0000054 Redactions Completed at the Direction of Ranking Member of the US House Permanent Select Committee on Intelligence\\\\x0cSuggested Page Black Matters Sponsored Join us because we care. Black matters. Black Matters Commun,ty 224,537 people like  nis. ,` Like Page P(1)0000055 Redactions Completed at the Direction of Ranking Member of the US House Permanent Select Committee on Intelligence\\\\x0c'\""
      ]
     },
     "execution_count": 6,
     "metadata": {},
     "output_type": "execute_result"
    }
   ],
   "source": [
    "#Testing with one file\n",
    "text = textract.process('files/P(1)0000054.pdf', method='pdfminer')\n",
    "text = str(text).replace(\"\\n\\n\", \" \")    # alle Umbrüche und Elemente, die man nicht will, mit Abstand ersetzen\n",
    "text = str(text).replace(\"\\n\", \" \")\n",
    "text = str(text).replace(\"\\\\n\\\\n\", \" \")\n",
    "text = str(text).replace(\"\\\\n\", \" \")\n",
    "text"
   ]
  },
  {
   "cell_type": "markdown",
   "metadata": {},
   "source": [
    "- Suchen nach dem Adtext:"
   ]
  },
  {
   "cell_type": "code",
   "execution_count": 7,
   "metadata": {},
   "outputs": [
    {
     "data": {
      "text/plain": [
       "'Join us because we care. Black matters.'"
      ]
     },
     "execution_count": 7,
     "metadata": {},
     "output_type": "execute_result"
    }
   ],
   "source": [
    "adtext = re.search(\"Ad Text.*Ad Landing Page\", text)\n",
    "adtext = re.search(\"Ad Text.*Ad Landing Page\", text).group().replace(\"Ad Landing Page\", \"\")\n",
    "adtext = adtext.replace(\"Ad Text\", \"\").replace(\"\\\\n\", \" \").strip()\n",
    "adtext"
   ]
  },
  {
   "cell_type": "code",
   "execution_count": 8,
   "metadata": {},
   "outputs": [
    {
     "data": {
      "text/plain": [
       "'Location: United States: Baltimore (+20 km) Maryland; St. Louis (+20 km) Missouri Excluded Connections: Exclude people who like Black Matters '"
      ]
     },
     "execution_count": 8,
     "metadata": {},
     "output_type": "execute_result"
    }
   ],
   "source": [
    "def get_location(text):\n",
    "    if re.search(\"Location.*Age\", text) != None:    # nimm alles aus dem Text zw. den Begriffen Location und Age (Hilfe uf rubular.com)\n",
    "        pattern = re.search(\"Location.*Age\", text)\n",
    "        loc = pattern.group().replace('Age','').replace('Location - Living In: ','')\n",
    "    else:\n",
    "        loc = 'N/A'\n",
    "    return loc\n",
    "get_location(text)"
   ]
  },
  {
   "cell_type": "code",
   "execution_count": 9,
   "metadata": {},
   "outputs": [
    {
     "data": {
      "text/plain": [
       "'06/10/15 02:59:53 AM PDT'"
      ]
     },
     "execution_count": 9,
     "metadata": {},
     "output_type": "execute_result"
    }
   ],
   "source": [
    "def get_date(text):\n",
    "    if re.search(\"Creation Date.*Redactions\", str(text)) != None:\n",
    "        pattern = re.search(\"Creation Date.*Redactions\", str(text))\n",
    "        pattern = pattern.group().replace('Creation Date\\\\n\\\\n','')\n",
    "        date = re.search(\"\\d\\d/\\d\\d/\\d\\d \\d\\d:\\d\\d:\\d\\d [A-Z][A-Z] [A-Z]{3}\", pattern)\n",
    "        if date != None:\n",
    "            date = date.group()\n",
    "    else: \n",
    "        date = 'N/A'\n",
    "    return date\n",
    "get_date(text)"
   ]
  },
  {
   "cell_type": "code",
   "execution_count": 10,
   "metadata": {},
   "outputs": [
    {
     "data": {
      "text/plain": [
       "'0'"
      ]
     },
     "execution_count": 10,
     "metadata": {},
     "output_type": "execute_result"
    }
   ],
   "source": [
    "def get_ad_klicks(text):\n",
    "    if re.search(\"Ad Clicks.*\", text) != None:\n",
    "        klicks = re.search(\"Ad Clicks.*\", text)\n",
    "        klicks = klicks.group()[:25].replace(\",\", \"\")\n",
    "        klicks = re.search(\"[0-9]+\", klicks)\n",
    "        if klicks != None:\n",
    "            klicks = klicks.group()\n",
    "    else:\n",
    "        klicks = 'N/A'\n",
    "    return klicks\n",
    "get_ad_klicks(text)"
   ]
  },
  {
   "cell_type": "code",
   "execution_count": 11,
   "metadata": {},
   "outputs": [
    {
     "data": {
      "text/plain": [
       "'137'"
      ]
     },
     "execution_count": 11,
     "metadata": {},
     "output_type": "execute_result"
    }
   ],
   "source": [
    "def get_ad_impressions(text):\n",
    "    if re.search(\"Ad Impressions.*\", text) != None:\n",
    "        imps = re.search(\"Ad Impressions.*\", text)\n",
    "        imps = imps.group()[:25].replace(\",\", \"\")\n",
    "        imps = re.search(\"[0-9]+\", imps)\n",
    "        if imps != None:\n",
    "            imps = imps.group()\n",
    "    else:\n",
    "        imps = 'N/A'\n",
    "    return imps\n",
    "get_ad_impressions(text)"
   ]
  },
  {
   "cell_type": "code",
   "execution_count": 13,
   "metadata": {},
   "outputs": [
    {
     "data": {
      "text/plain": [
       "'44.87'"
      ]
     },
     "execution_count": 13,
     "metadata": {},
     "output_type": "execute_result"
    }
   ],
   "source": [
    "def get_ad_spend(text):\n",
    "    if re.search(\"Ad Spend.*\", text) != None:\n",
    "        adspend = re.search(\"Ad Spend.*\", text)\n",
    "        adspend = adspend.group()[:25].replace(\",\", \"\")\n",
    "        adspend = re.search(\"[0-9]+.[0-9]+\", adspend)\n",
    "        if adspend != None:\n",
    "            adspend = adspend.group()\n",
    "    else:\n",
    "        adspend = 'N/A'\n",
    "    return adspend\n",
    "get_ad_spend(text)"
   ]
  },
  {
   "cell_type": "markdown",
   "metadata": {},
   "source": [
    "## Aufbau der Dateiliste"
   ]
  },
  {
   "cell_type": "code",
   "execution_count": 14,
   "metadata": {},
   "outputs": [
    {
     "name": "stdout",
     "output_type": "stream",
     "text": [
      "2.1 Importing Text from Everywhere.ipynb\r\n",
      "2.2 Real world example with textract.ipynb\r\n",
      "2.3 Named Entities Recognition.ipynb\r\n",
      "2.4 Classifying Text.ipynb\r\n",
      "2.5 OpenCV - Gesichtserkennung.ipynb\r\n",
      "2.6 Document Similarity with TDF-IDF.ipynb\r\n",
      "2.7 [OPTIONAL] Similar Words and Sentences with spaCy.ipynb\r\n",
      "2.8 [OPTIONAL] Objekterkennung as a service mit IBM Vision.ipynb\r\n",
      "2.9 [OPTIONAL] Sentiment, Spracherkennung, Spellchecking.ipynb\r\n",
      "bild.jpg\r\n",
      "example.docx\r\n",
      "example.pdf\r\n",
      "example.png\r\n",
      "\u001b[34mfiles\u001b[m\u001b[m\r\n",
      "fruitbowl.jpg\r\n",
      "godfather.txt\r\n",
      "guardian.png\r\n",
      "\u001b[34mhaarcascades\u001b[m\u001b[m\r\n",
      "\u001b[34minstagram\u001b[m\u001b[m\r\n",
      "obama.txt\r\n",
      "readable.csv\r\n",
      "schindlers_list.txt\r\n",
      "shawnshank.txt\r\n",
      "\u001b[34msongtexte\u001b[m\u001b[m\r\n",
      "tf-idf.jpeg\r\n"
     ]
    }
   ],
   "source": [
    "!ls"
   ]
  },
  {
   "cell_type": "code",
   "execution_count": 16,
   "metadata": {},
   "outputs": [
    {
     "data": {
      "text/plain": [
       "['P(1)0000054.pdf',\n",
       " 'P(1)0000180.pdf',\n",
       " 'P(1)0000182.pdf',\n",
       " 'P(1)0001844.pdf',\n",
       " 'P(1)0002111.pdf',\n",
       " 'P(1)0002112.pdf',\n",
       " 'P(1)0002113.pdf',\n",
       " 'P(1)0002114.pdf',\n",
       " 'P(1)0002115.pdf',\n",
       " 'P(1)0002116.pdf']"
      ]
     },
     "execution_count": 16,
     "metadata": {},
     "output_type": "execute_result"
    }
   ],
   "source": [
    "#Creating file list\n",
    "lt = sorted(os.listdir(\"files\"))\n",
    "lt"
   ]
  },
  {
   "cell_type": "code",
   "execution_count": 17,
   "metadata": {},
   "outputs": [],
   "source": [
    "lst = []\n",
    "for elem in lt:\n",
    "    if \".pdf\" in elem:\n",
    "        lst.append(elem)"
   ]
  },
  {
   "cell_type": "code",
   "execution_count": 18,
   "metadata": {},
   "outputs": [],
   "source": [
    "lst = lst[0:4]"
   ]
  },
  {
   "cell_type": "code",
   "execution_count": 19,
   "metadata": {},
   "outputs": [
    {
     "data": {
      "text/plain": [
       "['P(1)0000054.pdf', 'P(1)0000180.pdf', 'P(1)0000182.pdf', 'P(1)0001844.pdf']"
      ]
     },
     "execution_count": 19,
     "metadata": {},
     "output_type": "execute_result"
    }
   ],
   "source": [
    "lst"
   ]
  },
  {
   "cell_type": "code",
   "execution_count": 22,
   "metadata": {
    "scrolled": true
   },
   "outputs": [],
   "source": [
    "#Creating dictionary for:\n",
    "\n",
    "#'Location', 'Number', 'Date', 'Interests',\n",
    "#'Age', 'Language', 'Placements', 'Ad Clicks',\n",
    "#'Ad Impressions', 'Ad Spend'\n",
    "\n",
    "results = []\n",
    "\n",
    "for elem in lst:\n",
    "    #print(elem)\n",
    "    if 'ultimate_names.csv' in elem:\n",
    "        continue\n",
    "    \n",
    "    else:\n",
    "        \n",
    "        text = textract.process('files/'+elem, method='pdfminer')\n",
    "        text = str(text).replace(\"\\n\\n\", \" \")\n",
    "        text = str(text).replace(\"\\n\", \" \")\n",
    "\n",
    "    \n",
    "        location = get_location(text)\n",
    "        date = get_date(text)\n",
    "        klicks = get_ad_klicks(text)\n",
    "        imps = get_ad_impressions(text)\n",
    "        adspend = get_ad_spend(text)\n",
    "        \n",
    "        \n",
    "        if re.search(\"Interests:.*\", text) != None:\n",
    "            interests = re.search(\"Interests:.*\", text).group().split('\\\\n')[0]\n",
    "        else:\n",
    "            interests = 'N/A'\n",
    "    \n",
    "        if re.search(\"Age:.*\", text) != None:\n",
    "            age = re.search(\"Age:.*\", text).group().split('\\\\n')[0]\n",
    "        else:\n",
    "            age = 'N/A'\n",
    "        \n",
    "        if re.search(\"Language:.*\", text) != None:\n",
    "            lang = re.search(\"Language:.*\", text).group().split('\\\\n')[0]\n",
    "        else:\n",
    "            lang = 'N/A'\n",
    "    \n",
    "        if re.search(\"Placements:.*\", text) != None:\n",
    "            place = re.search(\"Placements:.*\", text).group().split('\\\\n')[0]\n",
    "        else:\n",
    "            place = 'N/A'\n",
    "    \n",
    "        if re.search(\"Ad Text.*Ad Landing Page\", text) != None:\n",
    "            adtext = re.search(\"Ad Text.*Ad Landing Page\", text).group().replace(\"Ad Landing Page\", \"\")\n",
    "            adtext = adtext.replace(\"Ad Text\", \"\").replace(\"\\\\n\", \" \").strip()\n",
    "        else:\n",
    "            place = 'N/A'\n",
    "        \n",
    "        mini_dict = {'Location': location,\n",
    "                 'Number': elem,\n",
    "                 'Date': date,\n",
    "                 'Interests': interests,\n",
    "                 'Age': age,\n",
    "                 'Language': lang,\n",
    "                 'Placements': place,\n",
    "                 'Ad Text': adtext,\n",
    "                 'Ad Clicks': klicks,\n",
    "                 'Ad Impressions': imps,\n",
    "                 'Ad Spend': adspend}\n",
    "        \n",
    "        results.append(mini_dict)\n"
   ]
  },
  {
   "cell_type": "code",
   "execution_count": 23,
   "metadata": {},
   "outputs": [
    {
     "data": {
      "text/plain": [
       "[{'Location': 'Location: United States: Baltimore (+20 km) Maryland; St. Louis (+20 km)\\\\nMissouri\\\\nExcluded Connections: Exclude people who like Black Matters\\\\n',\n",
       "  'Number': 'P(1)0000054.pdf',\n",
       "  'Date': '06/10/15 02:59:53 AM PDT',\n",
       "  'Interests': 'N/A',\n",
       "  'Age': 'Age: 18 - 65+',\n",
       "  'Language': 'Language: English (UK) or English (US)',\n",
       "  'Placements': 'Placements: News Feed on desktop computers or News Feed on mobile',\n",
       "  'Ad Text': 'Join us because we care. Black matters.',\n",
       "  'Ad Clicks': '0',\n",
       "  'Ad Impressions': '137',\n",
       "  'Ad Spend': '44.87'},\n",
       " {'Location': 'United States\\\\n\\\\n',\n",
       "  'Number': 'P(1)0000180.pdf',\n",
       "  'Date': '06/23/15 07:04:01 AM PDT',\n",
       "  'Interests': 'N/A',\n",
       "  'Age': 'Age: 18 - 65+',\n",
       "  'Language': 'N/A',\n",
       "  'Placements': 'Placements: News Feed on desktop computers or News Feed on mobile',\n",
       "  'Ad Text': 'NOT EVERY BOY WANTS TO BE A SOLDIER.  A beautiful message was seen on the streets of the capitol,. with no group name or credits attached to the project.  It was the poster at top, of the bearded man in a pink gown behaving like a queen and holding a sign saying \"Not every boy wants to be a soldier\". A timely message for today.  The two recent U.S. wars were costly for our nation; to put it lightly. They led to domestic devastation of country. No matter what Defense Secretary or POTUS are saying they don\\\\\\'t fool me with promises of gay military equality as key to the nation\\\\\\'s agenda. Better talk to me about cutting DoD\\\\\\'s budget. FOLKS.  #Igbt #USarmy #CrossDress #GaySoldier #Obama #DefenseBudget #StopWar',\n",
       "  'Ad Clicks': '35',\n",
       "  'Ad Impressions': '452',\n",
       "  'Ad Spend': '184.81'},\n",
       " {'Location': 'Location - Living  In:  United States \\\\n\\\\n',\n",
       "  'Number': 'P(1)0000182.pdf',\n",
       "  'Date': 'N/A',\n",
       "  'Interests': 'N/A',\n",
       "  'Age': 'Age:  18 - 65+ ',\n",
       "  'Language': 'N/A',\n",
       "  'Placements': 'N/A',\n",
       "  'Ad Text': 'NOT EVERY BOY WANTS TO BE A SOLDIER.  A beautiful message was seen on the streets of the capitol,. with no group name or credits attached to the project.  It was the poster at top, of the bearded man in a pink gown behaving like a queen and holding a sign saying \"Not every boy wants to be a soldier\". A timely message for today.  The two recent U.S. wars were costly for our nation; to put it lightly. They led to domestic devastation of country. No matter what Defense Secretary or POTUS are saying they don\\\\\\'t fool me with promises of gay military equality as key to the nation\\\\\\'s agenda. Better talk to me about cutting DoD\\\\\\'s budget. FOLKS.  #Igbt #USarmy #CrossDress #GaySoldier #Obama #DefenseBudget #StopWar',\n",
       "  'Ad Clicks': 'N/A',\n",
       "  'Ad Impressions': 'N/A',\n",
       "  'Ad Spend': 'N/A'},\n",
       " {'Location': 'Location: United States\\\\nExcluded Connections: Exclude people who like L for life\\\\n',\n",
       "  'Number': 'P(1)0001844.pdf',\n",
       "  'Date': '06/09/15 03:50:21 AM PDT',\n",
       "  'Interests': 'N/A',\n",
       "  'Age': 'Age: 18 - 65+',\n",
       "  'Language': 'Language: English (UK) or English (US)',\n",
       "  'Placements': 'Placements: News Feed on desktop computers, News Feed on mobile',\n",
       "  'Ad Text': '?????? ??? ????? ? ??????????',\n",
       "  'Ad Clicks': '0',\n",
       "  'Ad Impressions': '31',\n",
       "  'Ad Spend': '33.59'}]"
      ]
     },
     "execution_count": 23,
     "metadata": {},
     "output_type": "execute_result"
    }
   ],
   "source": [
    "results"
   ]
  },
  {
   "cell_type": "markdown",
   "metadata": {},
   "source": [
    "### Abspeichern im Dataframe"
   ]
  },
  {
   "cell_type": "code",
   "execution_count": 24,
   "metadata": {},
   "outputs": [],
   "source": [
    "df = pd.DataFrame(results)"
   ]
  },
  {
   "cell_type": "code",
   "execution_count": 25,
   "metadata": {},
   "outputs": [
    {
     "data": {
      "text/html": [
       "<div>\n",
       "<style scoped>\n",
       "    .dataframe tbody tr th:only-of-type {\n",
       "        vertical-align: middle;\n",
       "    }\n",
       "\n",
       "    .dataframe tbody tr th {\n",
       "        vertical-align: top;\n",
       "    }\n",
       "\n",
       "    .dataframe thead th {\n",
       "        text-align: right;\n",
       "    }\n",
       "</style>\n",
       "<table border=\"1\" class=\"dataframe\">\n",
       "  <thead>\n",
       "    <tr style=\"text-align: right;\">\n",
       "      <th></th>\n",
       "      <th>Ad Clicks</th>\n",
       "      <th>Ad Impressions</th>\n",
       "      <th>Ad Spend</th>\n",
       "      <th>Ad Text</th>\n",
       "      <th>Age</th>\n",
       "      <th>Date</th>\n",
       "      <th>Interests</th>\n",
       "      <th>Language</th>\n",
       "      <th>Location</th>\n",
       "      <th>Number</th>\n",
       "      <th>Placements</th>\n",
       "    </tr>\n",
       "  </thead>\n",
       "  <tbody>\n",
       "    <tr>\n",
       "      <th>0</th>\n",
       "      <td>0</td>\n",
       "      <td>137</td>\n",
       "      <td>44.87</td>\n",
       "      <td>Join us because we care. Black matters.</td>\n",
       "      <td>Age: 18 - 65+</td>\n",
       "      <td>06/10/15 02:59:53 AM PDT</td>\n",
       "      <td>N/A</td>\n",
       "      <td>Language: English (UK) or English (US)</td>\n",
       "      <td>Location: United States: Baltimore (+20 km) Ma...</td>\n",
       "      <td>P(1)0000054.pdf</td>\n",
       "      <td>Placements: News Feed on desktop computers or ...</td>\n",
       "    </tr>\n",
       "    <tr>\n",
       "      <th>1</th>\n",
       "      <td>35</td>\n",
       "      <td>452</td>\n",
       "      <td>184.81</td>\n",
       "      <td>NOT EVERY BOY WANTS TO BE A SOLDIER.  A beauti...</td>\n",
       "      <td>Age: 18 - 65+</td>\n",
       "      <td>06/23/15 07:04:01 AM PDT</td>\n",
       "      <td>N/A</td>\n",
       "      <td>N/A</td>\n",
       "      <td>United States\\n\\n</td>\n",
       "      <td>P(1)0000180.pdf</td>\n",
       "      <td>Placements: News Feed on desktop computers or ...</td>\n",
       "    </tr>\n",
       "    <tr>\n",
       "      <th>2</th>\n",
       "      <td>N/A</td>\n",
       "      <td>N/A</td>\n",
       "      <td>N/A</td>\n",
       "      <td>NOT EVERY BOY WANTS TO BE A SOLDIER.  A beauti...</td>\n",
       "      <td>Age:  18 - 65+</td>\n",
       "      <td>N/A</td>\n",
       "      <td>N/A</td>\n",
       "      <td>N/A</td>\n",
       "      <td>Location - Living  In:  United States \\n\\n</td>\n",
       "      <td>P(1)0000182.pdf</td>\n",
       "      <td>N/A</td>\n",
       "    </tr>\n",
       "    <tr>\n",
       "      <th>3</th>\n",
       "      <td>0</td>\n",
       "      <td>31</td>\n",
       "      <td>33.59</td>\n",
       "      <td>?????? ??? ????? ? ??????????</td>\n",
       "      <td>Age: 18 - 65+</td>\n",
       "      <td>06/09/15 03:50:21 AM PDT</td>\n",
       "      <td>N/A</td>\n",
       "      <td>Language: English (UK) or English (US)</td>\n",
       "      <td>Location: United States\\nExcluded Connections:...</td>\n",
       "      <td>P(1)0001844.pdf</td>\n",
       "      <td>Placements: News Feed on desktop computers, Ne...</td>\n",
       "    </tr>\n",
       "  </tbody>\n",
       "</table>\n",
       "</div>"
      ],
      "text/plain": [
       "  Ad Clicks Ad Impressions Ad Spend  \\\n",
       "0         0            137    44.87   \n",
       "1        35            452   184.81   \n",
       "2       N/A            N/A      N/A   \n",
       "3         0             31    33.59   \n",
       "\n",
       "                                             Ad Text              Age  \\\n",
       "0            Join us because we care. Black matters.    Age: 18 - 65+   \n",
       "1  NOT EVERY BOY WANTS TO BE A SOLDIER.  A beauti...    Age: 18 - 65+   \n",
       "2  NOT EVERY BOY WANTS TO BE A SOLDIER.  A beauti...  Age:  18 - 65+    \n",
       "3                      ?????? ??? ????? ? ??????????    Age: 18 - 65+   \n",
       "\n",
       "                       Date Interests                                Language  \\\n",
       "0  06/10/15 02:59:53 AM PDT       N/A  Language: English (UK) or English (US)   \n",
       "1  06/23/15 07:04:01 AM PDT       N/A                                     N/A   \n",
       "2                       N/A       N/A                                     N/A   \n",
       "3  06/09/15 03:50:21 AM PDT       N/A  Language: English (UK) or English (US)   \n",
       "\n",
       "                                            Location           Number  \\\n",
       "0  Location: United States: Baltimore (+20 km) Ma...  P(1)0000054.pdf   \n",
       "1                                  United States\\n\\n  P(1)0000180.pdf   \n",
       "2         Location - Living  In:  United States \\n\\n  P(1)0000182.pdf   \n",
       "3  Location: United States\\nExcluded Connections:...  P(1)0001844.pdf   \n",
       "\n",
       "                                          Placements  \n",
       "0  Placements: News Feed on desktop computers or ...  \n",
       "1  Placements: News Feed on desktop computers or ...  \n",
       "2                                                N/A  \n",
       "3  Placements: News Feed on desktop computers, Ne...  "
      ]
     },
     "execution_count": 25,
     "metadata": {},
     "output_type": "execute_result"
    }
   ],
   "source": [
    "df"
   ]
  },
  {
   "cell_type": "markdown",
   "metadata": {},
   "source": [
    "### Abspeichern als CSV"
   ]
  },
  {
   "cell_type": "code",
   "execution_count": 79,
   "metadata": {},
   "outputs": [],
   "source": [
    "df.to_csv('readable.csv')"
   ]
  },
  {
   "cell_type": "code",
   "execution_count": null,
   "metadata": {
    "collapsed": true
   },
   "outputs": [],
   "source": []
  }
 ],
 "metadata": {
  "kernelspec": {
   "display_name": "Python 3",
   "language": "python",
   "name": "python3"
  },
  "language_info": {
   "codemirror_mode": {
    "name": "ipython",
    "version": 3
   },
   "file_extension": ".py",
   "mimetype": "text/x-python",
   "name": "python",
   "nbconvert_exporter": "python",
   "pygments_lexer": "ipython3",
   "version": "3.7.0"
  }
 },
 "nbformat": 4,
 "nbformat_minor": 2
}
