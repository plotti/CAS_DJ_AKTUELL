{
 "cells": [
  {
   "cell_type": "markdown",
   "metadata": {},
   "source": [
    "# Claudia"
   ]
  },
  {
   "cell_type": "code",
   "execution_count": 4,
   "metadata": {},
   "outputs": [
    {
     "name": "stdout",
     "output_type": "stream",
     "text": [
      "/Users/info/.virtualenvs/Clava/lib/python3.7/site-packages/requests/__init__.py:91: \n",
      "RequestsDependencyWarning: urllib3 (1.23) or chardet (2.3.0) doesn’t match a supported version!\n",
      "RequestsDependencyWarning)\n"
     ]
    }
   ],
   "source": [
    "#Fehlermeldung\n",
    "print(\"\"\"/Users/info/.virtualenvs/Clava/lib/python3.7/site-packages/requests/__init__.py:91: \n",
    "RequestsDependencyWarning: urllib3 (1.23) or chardet (2.3.0) doesn’t match a supported version!\n",
    "RequestsDependencyWarning)\"\"\")"
   ]
  },
  {
   "cell_type": "markdown",
   "metadata": {
    "collapsed": true
   },
   "source": [
    "# Michael"
   ]
  },
  {
   "cell_type": "code",
   "execution_count": 1,
   "metadata": {},
   "outputs": [
    {
     "name": "stderr",
     "output_type": "stream",
     "text": [
      "/Users/yannick/.virtualenvs/virtuelle_umgebung/lib/python3.7/site-packages/requests/__init__.py:91: RequestsDependencyWarning: urllib3 (1.23) or chardet (2.3.0) doesn't match a supported version!\n",
      "  RequestsDependencyWarning)\n"
     ]
    }
   ],
   "source": [
    "#Importe\n",
    "\n",
    "from bs4 import BeautifulSoup\n",
    "import requests\n",
    "import time\n",
    "import datetime\n",
    "import pandas as pd\n",
    "from selenium import webdriver\n",
    "from selenium.webdriver.common.keys import Keys\n",
    "from selenium.webdriver.support.ui import Select\n",
    "import os"
   ]
  },
  {
   "cell_type": "code",
   "execution_count": 3,
   "metadata": {},
   "outputs": [
    {
     "ename": "AttributeError",
     "evalue": "'NoneType' object has no attribute 'click'",
     "output_type": "error",
     "traceback": [
      "\u001b[0;31m---------------------------------------------------------------------------\u001b[0m",
      "\u001b[0;31mAttributeError\u001b[0m                            Traceback (most recent call last)",
      "\u001b[0;32m<ipython-input-3-ada6efc641e4>\u001b[0m in \u001b[0;36m<module>\u001b[0;34m()\u001b[0m\n\u001b[1;32m     15\u001b[0m \u001b[0;34m\u001b[0m\u001b[0m\n\u001b[1;32m     16\u001b[0m \u001b[0mdatum_von\u001b[0m \u001b[0;34m=\u001b[0m \u001b[0mdriver\u001b[0m\u001b[0;34m.\u001b[0m\u001b[0mfind_element_by_id\u001b[0m\u001b[0;34m(\u001b[0m\u001b[0;34m'FromTransactionDate'\u001b[0m\u001b[0;34m)\u001b[0m\u001b[0;34m\u001b[0m\u001b[0m\n\u001b[0;32m---> 17\u001b[0;31m \u001b[0mdatum_von\u001b[0m\u001b[0;34m.\u001b[0m\u001b[0mclick\u001b[0m\u001b[0;34m(\u001b[0m\u001b[0;34m)\u001b[0m\u001b[0;34m\u001b[0m\u001b[0m\n\u001b[0m\u001b[1;32m     18\u001b[0m \u001b[0;31m#datum_von.clear()\u001b[0m\u001b[0;34m\u001b[0m\u001b[0;34m\u001b[0m\u001b[0m\n\u001b[1;32m     19\u001b[0m \u001b[0mdatum_von\u001b[0m\u001b[0;34m.\u001b[0m\u001b[0msend_keys\u001b[0m\u001b[0;34m(\u001b[0m\u001b[0mstartdatum\u001b[0m\u001b[0;34m)\u001b[0m\u001b[0;34m\u001b[0m\u001b[0m\n",
      "\u001b[0;31mAttributeError\u001b[0m: 'NoneType' object has no attribute 'click'"
     ]
    }
   ],
   "source": [
    "#def selenium(startdatum, enddatum):\n",
    "#definition webdriver (ohne Pfadangabe, da Pfad gespeichert)\n",
    "\n",
    "driver = webdriver.Chrome()\n",
    "\n",
    "#definition Website\n",
    "driver.get(\"https://www.six-exchange-regulation.com/de/home/publications/management-transactions.html\")\n",
    "#driver.get(\"https://www.six-exchange-regulation.com/de/home/publications/management-transactions.html#notificationId=T1I2G00075\")\n",
    "\n",
    "#time.sleep(1)           \n",
    "\n",
    "#datum setzen\n",
    "startdatum = \"01012018\"\n",
    "enddatum = \"20012018\"\n",
    "\n",
    "datum_von = driver.find_element_by_id('FromTransactionDate')\n",
    "datum_von.click()\n",
    "#datum_von.clear()\n",
    "datum_von.send_keys(startdatum)\n",
    "\n",
    "datum_bis = driver.find_element_by_name('ToTransactionDate')\n",
    "datum_bis.click()\n",
    "#datum_bis.clear()\n",
    "datum_bis.send_keys(enddatum)       \n",
    "\n",
    "#Einfach nur Abschicken\n",
    "datum_von = driver.find_element_by_id('FromTransactionDate')\n",
    "datum_von.send_keys(Keys.ENTER)\n",
    "\n",
    "#time.sleep(5)   \n",
    "\n",
    "#HTML-Inhalt erfassen und übergeben\n",
    "html = driver.page_source\n",
    "html"
   ]
  },
  {
   "cell_type": "markdown",
   "metadata": {},
   "source": [
    "# Reto"
   ]
  },
  {
   "cell_type": "code",
   "execution_count": 3,
   "metadata": {
    "collapsed": true
   },
   "outputs": [],
   "source": [
    "import requests\n",
    "from bs4 import BeautifulSoup\n",
    "import pandas as pd"
   ]
  },
  {
   "cell_type": "code",
   "execution_count": 4,
   "metadata": {},
   "outputs": [
    {
     "name": "stdout",
     "output_type": "stream",
     "text": [
      "https://www.atpworldtour.com/en/players/roger-federer/f324/player-activity?year=2016\n",
      "https://www.atpworldtour.com/en/players/roger-federer/f324/player-activity?year=2017\n",
      "https://www.atpworldtour.com/en/players/roger-federer/f324/player-activity?year=2018\n"
     ]
    }
   ],
   "source": [
    "jahre = list(range(2016,2019))\n",
    "\n",
    "for jahr in jahre:\n",
    "    url = \"https://www.atpworldtour.com/en/players/roger-federer/f324/player-activity?year=\"\n",
    "    url = url+str(jahr)\n",
    "    print(url)\n",
    "    r = requests.get(url)\n",
    "    soup = BeautifulSoup(r.text, 'html.parser')"
   ]
  },
  {
   "cell_type": "code",
   "execution_count": 5,
   "metadata": {},
   "outputs": [
    {
     "name": "stdout",
     "output_type": "stream",
     "text": [
      "https://www.atpworldtour.com/en/players/roger-federer/f324/player-activity?year=2016\n",
      "https://www.atpworldtour.com/en/players/roger-federer/f324/player-activity?year=2017\n"
     ]
    }
   ],
   "source": [
    "federer = []\n",
    "jahre = list(range(2016,2018))\n",
    "\n",
    "for jahr in jahre:\n",
    "    url = \"https://www.atpworldtour.com/en/players/roger-federer/f324/player-activity?year=\"\n",
    "    url = url+str(jahr)\n",
    "    print(url)\n",
    "    r = requests.get(url)\n",
    "    soup = BeautifulSoup(r.text, 'html.parser')\n",
    "\n",
    "    turniere = soup.find('div', {'class':\"activity-tournament-table\"}).find_all('a', {'class':'tourney-title'})\n",
    "    daten = soup.find('div', {'class':\"activity-tournament-table\"}).find_all('span', {'class':'tourney-dates'})\n",
    "    gegner = soup.find('div', {'class':\"day-table-name \"}).find_all('a', {'class':'mega-player-name'})\n",
    "\n",
    "    for turnier, datum, spieler in zip(turniere, daten, gegner):\n",
    "        turnier = turnier.text\n",
    "        datum = datum.text\n",
    "        gegner = spieler.text\n",
    "        minidict = {'Turnier': turnier,\n",
    "                    'Datum': datum,\n",
    "                    \"Gegner\": spieler,\n",
    "                    'Saison':str(jahr)}\n",
    "        federer.append(minidict)"
   ]
  },
  {
   "cell_type": "code",
   "execution_count": 6,
   "metadata": {},
   "outputs": [
    {
     "data": {
      "text/plain": [
       "<div class=\"activity-tournament-table\">\n",
       "<table class=\"tourney-results-wrapper\">\n",
       "<tbody>\n",
       "<tr class=\"tourney-result with-icons\">\n",
       "<td class=\"tourney-badge-wrapper\">\n",
       "<img alt=\"\" src=\"/-/media/images/tourtypes/nitto_atp_finals_pos_rgb_l.svg?w=118&amp;hash=FF42DE6AD2CABA939380F2A4744B2865F208228C\"/>\n",
       "</td>\n",
       "<td class=\"title-content\">\n",
       "<a class=\"tourney-title\" data-ga-action=\"Click\" data-ga-category=\"Tournaments\" data-ga-label=\"Nitto ATP Finals\" data-use-ga=\"true\" href=\"/en/tournaments/nitto-atp-finals/605/overview\">Nitto ATP Finals</a>\n",
       "<span class=\"tourney-location\">\n",
       "            London, Great Britain\n",
       "        </span>\n",
       "<span class=\"tourney-dates\">\n",
       "2017.11.13 - 2017.11.19        </span>\n",
       "</td>\n",
       "<td class=\"tourney-details-table-wrapper\">\n",
       "<table>\n",
       "<tbody>\n",
       "<tr>\n",
       "<td class=\"tourney-details\">\n",
       "<div class=\"icon-area\">\n",
       "<div class=\"icon-bracket image-icon\"></div>\n",
       "</div>\n",
       "<div class=\"info-area\">\n",
       "<div class=\"item-details\">\n",
       "                SGL\n",
       "                <a class=\"not-in-system\">\n",
       "<span class=\"item-value\">\n",
       "                        8\n",
       "                    </span>\n",
       "</a>\n",
       "                DBL\n",
       "                <a class=\"not-in-system\">\n",
       "<span class=\"item-value\">\n",
       "                        8\n",
       "                    </span>\n",
       "</a>\n",
       "</div>\n",
       "</div>\n",
       "</td>\n",
       "<td class=\"tourney-details\">\n",
       "<div class=\"icon-area\">\n",
       "<div class=\"icon-court image-icon\"></div>\n",
       "</div>\n",
       "<div class=\"info-area\">\n",
       "<div class=\"item-details\">\n",
       "I                 <span class=\"item-value\">\n",
       "                    Hard\n",
       "                </span>\n",
       "</div>\n",
       "</div>\n",
       "</td>\n",
       "<td class=\"tourney-details prize-money\">\n",
       "<div class=\"icon-area\">\n",
       "<div class=\"icon-currency image-icon\"></div>\n",
       "<div class=\"item-details\">\n",
       "Prize Money                </div>\n",
       "</div>\n",
       "<div class=\"info-area\">\n",
       "<div class=\"item-details\">\n",
       "<span class=\"item-value\">\n",
       "                $8,000,000\n",
       "            </span>\n",
       "</div>\n",
       "</div>\n",
       "</td>\n",
       "<td class=\"tourney-details fin-commit\">\n",
       "<div class=\"icon-area\">\n",
       "<div class=\"icon-finance image-icon\"></div>\n",
       "<div class=\"item-details\">\n",
       "Total Financial Commitment                </div>\n",
       "</div>\n",
       "<div class=\"info-area\">\n",
       "<div class=\"item-details\">\n",
       "<span class=\"item-value\">\n",
       "$8,000,000                </span>\n",
       "</div>\n",
       "</div>\n",
       "</td>\n",
       "</tr>\n",
       "</tbody>\n",
       "</table>\n",
       "</td>\n",
       "</tr>\n",
       "</tbody>\n",
       "</table>\n",
       "<table class=\"mega-table\">\n",
       "<thead>\n",
       "<th>\n",
       "                                            Round\n",
       "                                        </th>\n",
       "<th>Rank</th>\n",
       "<th>Opponent</th>\n",
       "<th>W-L</th>\n",
       "<th>Score</th>\n",
       "</thead>\n",
       "<tbody>\n",
       "<tr>\n",
       "<td>Semi-Finals</td>\n",
       "<td>\n",
       "8                                                            </td>\n",
       "<td>\n",
       "<div class=\"day-table-flag\">\n",
       "<a class=\"mega-player-flag\" href=\"/en/players/david-goffin/gb88/overview\"> <img class=\"\" src=\"/-/media/images/flags/bel.svg\"/>\n",
       "</a>\n",
       "</div>\n",
       "<div class=\"day-table-name \">\n",
       "<a class=\"mega-player-name\" data-ga-action=\"Click\" data-ga-label=\"Player Profile - David Goffin\" href=\"/en/players/david-goffin/gb88/overview\">David Goffin</a> </div>\n",
       "</td>\n",
       "<td>\n",
       "L                                                            </td>\n",
       "<td>\n",
       "<a class=\"\" href=\"/en/scores/2017/605/MS003/match-stats\">62 36 46 </a> </td>\n",
       "</tr>\n",
       "<tr>\n",
       "<td>Round Robin</td>\n",
       "<td>\n",
       "5                                                            </td>\n",
       "<td>\n",
       "<div class=\"day-table-flag\">\n",
       "<a class=\"mega-player-flag\" href=\"/en/players/marin-cilic/c977/overview\"> <img class=\"\" src=\"/-/media/images/flags/cro.svg\"/>\n",
       "</a>\n",
       "</div>\n",
       "<div class=\"day-table-name \">\n",
       "<a class=\"mega-player-name\" data-ga-action=\"Click\" data-ga-label=\"Player Profile - Marin Cilic\" href=\"/en/players/marin-cilic/c977/overview\">Marin Cilic</a> </div>\n",
       "</td>\n",
       "<td>\n",
       "W                                                            </td>\n",
       "<td>\n",
       "<a class=\"\" href=\"/en/scores/2017/605/MS017/match-stats\">67<sup>5</sup> 64 61 </a> </td>\n",
       "</tr>\n",
       "<tr>\n",
       "<td>Round Robin</td>\n",
       "<td>\n",
       "3                                                            </td>\n",
       "<td>\n",
       "<div class=\"day-table-flag\">\n",
       "<a class=\"mega-player-flag\" href=\"/en/players/alexander-zverev/z355/overview\"> <img class=\"\" src=\"/-/media/images/flags/ger.svg\"/>\n",
       "</a>\n",
       "</div>\n",
       "<div class=\"day-table-name \">\n",
       "<a class=\"mega-player-name\" data-ga-action=\"Click\" data-ga-label=\"Player Profile - Alexander Zverev\" href=\"/en/players/alexander-zverev/z355/overview\">Alexander Zverev</a> </div>\n",
       "</td>\n",
       "<td>\n",
       "W                                                            </td>\n",
       "<td>\n",
       "<a class=\"\" href=\"/en/scores/2017/605/MS016/match-stats\">76<sup>6</sup> 57 61 </a> </td>\n",
       "</tr>\n",
       "<tr>\n",
       "<td>Round Robin</td>\n",
       "<td>\n",
       "9                                                            </td>\n",
       "<td>\n",
       "<div class=\"day-table-flag\">\n",
       "<a class=\"mega-player-flag\" href=\"/en/players/jack-sock/sm25/overview\"> <img class=\"\" src=\"/-/media/images/flags/usa.svg\"/>\n",
       "</a>\n",
       "</div>\n",
       "<div class=\"day-table-name \">\n",
       "<a class=\"mega-player-name\" data-ga-action=\"Click\" data-ga-label=\"Player Profile - Jack Sock\" href=\"/en/players/jack-sock/sm25/overview\">Jack Sock</a> </div>\n",
       "</td>\n",
       "<td>\n",
       "W                                                            </td>\n",
       "<td>\n",
       "<a class=\"\" href=\"/en/scores/2017/605/MS018/match-stats\">64 76<sup>4</sup> </a> </td>\n",
       "</tr>\n",
       "</tbody>\n",
       "</table>\n",
       "<div class=\"activity-tournament-caption\">This Event Points: 600, ATP Ranking: 2, Prize Money: $764,000</div>\n",
       "</div>"
      ]
     },
     "execution_count": 6,
     "metadata": {},
     "output_type": "execute_result"
    }
   ],
   "source": [
    "soup.find('div', {'class':\"activity-tournament-table\"})"
   ]
  },
  {
   "cell_type": "code",
   "execution_count": 6,
   "metadata": {},
   "outputs": [
    {
     "data": {
      "text/plain": [
       "[{'Datum': '\\r\\n2016.06.27 - 2016.07.10        ',\n",
       "  'Gegner': <a class=\"mega-player-name\" data-ga-action=\"Click\" data-ga-label=\"Player Profile - Milos Raonic\" href=\"/en/players/milos-raonic/r975/overview\">Milos Raonic</a>,\n",
       "  'Saison': '2016',\n",
       "  'Turnier': 'Wimbledon'},\n",
       " {'Datum': '\\r\\n2017.11.13 - 2017.11.19        ',\n",
       "  'Gegner': <a class=\"mega-player-name\" data-ga-action=\"Click\" data-ga-label=\"Player Profile - David Goffin\" href=\"/en/players/david-goffin/gb88/overview\">David Goffin</a>,\n",
       "  'Saison': '2017',\n",
       "  'Turnier': 'Nitto ATP Finals'}]"
      ]
     },
     "execution_count": 6,
     "metadata": {},
     "output_type": "execute_result"
    }
   ],
   "source": [
    "federer"
   ]
  }
 ],
 "metadata": {
  "kernelspec": {
   "display_name": "Python 3",
   "language": "python",
   "name": "python3"
  },
  "language_info": {
   "codemirror_mode": {
    "name": "ipython",
    "version": 3
   },
   "file_extension": ".py",
   "mimetype": "text/x-python",
   "name": "python",
   "nbconvert_exporter": "python",
   "pygments_lexer": "ipython3",
   "version": "3.7.0"
  }
 },
 "nbformat": 4,
 "nbformat_minor": 2
}
